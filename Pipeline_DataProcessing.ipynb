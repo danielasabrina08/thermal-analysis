{
 "cells": [
  {
   "cell_type": "markdown",
   "id": "c63b2e9a",
   "metadata": {},
   "source": [
    "# Graficador de resultados de pruebas térmicas realizadas a unidades de transporte refrigeradas"
   ]
  },
  {
   "cell_type": "markdown",
   "id": "0976093c",
   "metadata": {},
   "source": [
    "Explicación del proyecto....\n",
    "\n",
    "Desarrollado por: Ing. Daniela Sabrina Reyes Rivera"
   ]
  },
  {
   "cell_type": "markdown",
   "id": "4d1955e0",
   "metadata": {},
   "source": [
    "### 1. Configuración inicial\n",
    "\n",
    "Importar las librerías necesarias:"
   ]
  },
  {
   "cell_type": "code",
   "execution_count": 1,
   "id": "cf50e2a4",
   "metadata": {},
   "outputs": [],
   "source": [
    "import pandas as pd\n",
    "import numpy as np\n",
    "import matplotlib.dates as mdates\n",
    "import matplotlib.pyplot as plt\n",
    "import seaborn as sns\n",
    "\n",
    "%matplotlib inline"
   ]
  },
  {
   "cell_type": "markdown",
   "id": "c67a2d12",
   "metadata": {},
   "source": [
    "### 2. Carga de los conjuntos de datos"
   ]
  },
  {
   "cell_type": "markdown",
   "id": "9a0fa0f8",
   "metadata": {},
   "source": [
    "### 3. Definición de funciones:"
   ]
  },
  {
   "cell_type": "code",
   "execution_count": 2,
   "id": "ce8570c8",
   "metadata": {},
   "outputs": [],
   "source": [
    "def dataloading(route):\n",
    "    return pd.read_csv('route')\n",
    "\n",
    "def resume_df(df):\n",
    "    print(\"Shape:\", df.shape)\n",
    "    print(\"\\nColumnas:\\n\", df.columns)\n",
    "    print(\"\\nTipos de datos:\\n\", df.dtypes)\n",
    "    print(\"\\nValores nulos:\\n\", df.isnull().sum())"
   ]
  },
  {
   "cell_type": "markdown",
   "id": "a6ab6c92",
   "metadata": {},
   "source": [
    "### 3. Exploración rápida\n",
    "### 4. Funciones reutilizables\n",
    "### 5. Visualizaciones por variable y test_id\n",
    "### 6. Visualización de todas las variables por test_id\n",
    "### 7. Conclusiones o hallazgos clave (opcional)"
   ]
  }
 ],
 "metadata": {
  "kernelspec": {
   "display_name": "Python 3",
   "language": "python",
   "name": "python3"
  },
  "language_info": {
   "codemirror_mode": {
    "name": "ipython",
    "version": 3
   },
   "file_extension": ".py",
   "mimetype": "text/x-python",
   "name": "python",
   "nbconvert_exporter": "python",
   "pygments_lexer": "ipython3",
   "version": "3.13.3"
  }
 },
 "nbformat": 4,
 "nbformat_minor": 5
}
